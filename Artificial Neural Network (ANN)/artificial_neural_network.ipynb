{
 "cells": [
  {
   "cell_type": "markdown",
   "metadata": {},
   "source": [
    "# Artificial Neural Network"
   ]
  },
  {
   "cell_type": "markdown",
   "metadata": {},
   "source": [
    "## Data Preprocessing"
   ]
  },
  {
   "cell_type": "code",
   "execution_count": 1,
   "metadata": {},
   "outputs": [],
   "source": [
    "import numpy as np\n",
    "import pandas as pd\n",
    "import tensorflow as tf\n"
   ]
  },
  {
   "cell_type": "code",
   "execution_count": 2,
   "metadata": {},
   "outputs": [
    {
     "data": {
      "text/plain": [
       "'2.18.0'"
      ]
     },
     "execution_count": 2,
     "metadata": {},
     "output_type": "execute_result"
    }
   ],
   "source": [
    "tf.__version__"
   ]
  },
  {
   "cell_type": "code",
   "execution_count": 3,
   "metadata": {},
   "outputs": [],
   "source": [
    "dataset_train = pd.read_csv(\"../train.csv\")\n",
    "X_train = dataset_train.drop([\"Survived\"], axis=1)\n",
    "y_train = dataset_train[\"Survived\"]\n",
    "X_test = pd.read_csv(\"../test.csv\")\n"
   ]
  },
  {
   "cell_type": "code",
   "execution_count": 4,
   "metadata": {},
   "outputs": [],
   "source": [
    "numeric_features = [\"Age\", \"SibSp\", \"Parch\", \"Fare\"]\n",
    "categorical_features = [\"Sex\", \"Pclass\", \"Embarked\"]\n"
   ]
  },
  {
   "cell_type": "code",
   "execution_count": 5,
   "metadata": {},
   "outputs": [],
   "source": [
    "from sklearn.pipeline import Pipeline\n",
    "from sklearn.impute import SimpleImputer\n",
    "from sklearn.preprocessing import StandardScaler\n",
    "\n",
    "numeric_transformer = Pipeline(\n",
    "    steps=[(\"imputer\", SimpleImputer(strategy=\"mean\")), (\"scaler\", StandardScaler())]\n",
    ")\n"
   ]
  },
  {
   "cell_type": "code",
   "execution_count": 6,
   "metadata": {},
   "outputs": [],
   "source": [
    "from sklearn.preprocessing import OneHotEncoder\n",
    "\n",
    "categorical_transformer = Pipeline(\n",
    "    steps=[\n",
    "        (\"imputer\", SimpleImputer(strategy=\"most_frequent\")),\n",
    "        (\"onehot\", OneHotEncoder(handle_unknown=\"ignore\")),\n",
    "    ]\n",
    ")\n"
   ]
  },
  {
   "cell_type": "code",
   "execution_count": 7,
   "metadata": {},
   "outputs": [],
   "source": [
    "from sklearn.compose import ColumnTransformer\n",
    "\n",
    "preprocessor = ColumnTransformer(\n",
    "    transformers=[\n",
    "        (\"num\", numeric_transformer, numeric_features),\n",
    "        (\"cat\", categorical_transformer, categorical_features),\n",
    "    ]\n",
    ")\n"
   ]
  },
  {
   "cell_type": "markdown",
   "metadata": {},
   "source": [
    "## Applying preprocessing"
   ]
  },
  {
   "cell_type": "code",
   "execution_count": 8,
   "metadata": {},
   "outputs": [],
   "source": [
    "X_train_processed = preprocessor.fit_transform(X_train)\n",
    "X_test_processed = preprocessor.transform(X_test)\n"
   ]
  },
  {
   "cell_type": "markdown",
   "metadata": {},
   "source": [
    "## Split the training data into training and validation sets"
   ]
  },
  {
   "cell_type": "code",
   "execution_count": 9,
   "metadata": {},
   "outputs": [],
   "source": [
    "from sklearn.model_selection import train_test_split\n",
    "\n",
    "X_train_split, X_val_split, y_train_split, y_val_split = train_test_split(\n",
    "    X_train_processed, y_train, test_size=0.2, random_state=42\n",
    ")\n"
   ]
  },
  {
   "cell_type": "markdown",
   "metadata": {},
   "source": [
    "## Build the ANN model"
   ]
  },
  {
   "cell_type": "code",
   "execution_count": 10,
   "metadata": {},
   "outputs": [
    {
     "name": "stderr",
     "output_type": "stream",
     "text": [
      "C:\\Users\\GMT\\AppData\\Roaming\\Python\\Python312\\site-packages\\keras\\src\\layers\\core\\dense.py:87: UserWarning: Do not pass an `input_shape`/`input_dim` argument to a layer. When using Sequential models, prefer using an `Input(shape)` object as the first layer in the model instead.\n",
      "  super().__init__(activity_regularizer=activity_regularizer, **kwargs)\n"
     ]
    }
   ],
   "source": [
    "from tensorflow.keras.models import Sequential\n",
    "from tensorflow.keras.layers import Dense, Dropout\n",
    "\n",
    "ann = Sequential(\n",
    "    [\n",
    "        Dense(64, activation=\"relu\", input_shape=(X_train_processed.shape[1],)),\n",
    "        Dropout(0.3),\n",
    "        Dense(32, activation=\"relu\"),\n",
    "        Dropout(0.3),\n",
    "        Dense(1, activation=\"sigmoid\"),\n",
    "    ]\n",
    ")\n"
   ]
  },
  {
   "cell_type": "markdown",
   "metadata": {},
   "source": [
    "## Compile the model"
   ]
  },
  {
   "cell_type": "code",
   "execution_count": 11,
   "metadata": {},
   "outputs": [],
   "source": [
    "ann.compile(optimizer=\"adam\", loss=\"binary_crossentropy\", metrics=[\"accuracy\"])\n"
   ]
  },
  {
   "cell_type": "markdown",
   "metadata": {},
   "source": [
    "## Set up early stopping"
   ]
  },
  {
   "cell_type": "code",
   "execution_count": 12,
   "metadata": {},
   "outputs": [],
   "source": [
    "from tensorflow.keras.callbacks import EarlyStopping\n",
    "\n",
    "early_stopping = EarlyStopping(\n",
    "    monitor=\"val_loss\", patience=10, restore_best_weights=True\n",
    ")\n"
   ]
  },
  {
   "cell_type": "markdown",
   "metadata": {},
   "source": [
    "## Train the model"
   ]
  },
  {
   "cell_type": "code",
   "execution_count": 13,
   "metadata": {},
   "outputs": [
    {
     "name": "stdout",
     "output_type": "stream",
     "text": [
      "Epoch 1/100\n",
      "23/23 - 2s - 87ms/step - accuracy: 0.6067 - loss: 0.6611 - val_accuracy: 0.7654 - val_loss: 0.5990\n",
      "Epoch 2/100\n",
      "23/23 - 0s - 8ms/step - accuracy: 0.7275 - loss: 0.5753 - val_accuracy: 0.7765 - val_loss: 0.5346\n",
      "Epoch 3/100\n",
      "23/23 - 0s - 8ms/step - accuracy: 0.7711 - loss: 0.5299 - val_accuracy: 0.8101 - val_loss: 0.4787\n",
      "Epoch 4/100\n",
      "23/23 - 0s - 7ms/step - accuracy: 0.7823 - loss: 0.4917 - val_accuracy: 0.8045 - val_loss: 0.4524\n",
      "Epoch 5/100\n",
      "23/23 - 0s - 8ms/step - accuracy: 0.7935 - loss: 0.4763 - val_accuracy: 0.8045 - val_loss: 0.4456\n",
      "Epoch 6/100\n",
      "23/23 - 0s - 7ms/step - accuracy: 0.7978 - loss: 0.4832 - val_accuracy: 0.8045 - val_loss: 0.4392\n",
      "Epoch 7/100\n",
      "23/23 - 0s - 7ms/step - accuracy: 0.8020 - loss: 0.4502 - val_accuracy: 0.8045 - val_loss: 0.4371\n",
      "Epoch 8/100\n",
      "23/23 - 0s - 7ms/step - accuracy: 0.8062 - loss: 0.4659 - val_accuracy: 0.8045 - val_loss: 0.4344\n",
      "Epoch 9/100\n",
      "23/23 - 0s - 7ms/step - accuracy: 0.7978 - loss: 0.4632 - val_accuracy: 0.8045 - val_loss: 0.4341\n",
      "Epoch 10/100\n",
      "23/23 - 0s - 8ms/step - accuracy: 0.8104 - loss: 0.4361 - val_accuracy: 0.8045 - val_loss: 0.4318\n",
      "Epoch 11/100\n",
      "23/23 - 0s - 7ms/step - accuracy: 0.8020 - loss: 0.4620 - val_accuracy: 0.8045 - val_loss: 0.4350\n",
      "Epoch 12/100\n",
      "23/23 - 0s - 7ms/step - accuracy: 0.8132 - loss: 0.4435 - val_accuracy: 0.8101 - val_loss: 0.4319\n",
      "Epoch 13/100\n",
      "23/23 - 0s - 7ms/step - accuracy: 0.8048 - loss: 0.4401 - val_accuracy: 0.8101 - val_loss: 0.4297\n",
      "Epoch 14/100\n",
      "23/23 - 0s - 7ms/step - accuracy: 0.8216 - loss: 0.4358 - val_accuracy: 0.8045 - val_loss: 0.4309\n",
      "Epoch 15/100\n",
      "23/23 - 0s - 8ms/step - accuracy: 0.8188 - loss: 0.4274 - val_accuracy: 0.8045 - val_loss: 0.4316\n",
      "Epoch 16/100\n",
      "23/23 - 0s - 7ms/step - accuracy: 0.8371 - loss: 0.4097 - val_accuracy: 0.8101 - val_loss: 0.4334\n",
      "Epoch 17/100\n",
      "23/23 - 0s - 8ms/step - accuracy: 0.8343 - loss: 0.4119 - val_accuracy: 0.8101 - val_loss: 0.4334\n",
      "Epoch 18/100\n",
      "23/23 - 0s - 7ms/step - accuracy: 0.8258 - loss: 0.4154 - val_accuracy: 0.8101 - val_loss: 0.4301\n",
      "Epoch 19/100\n",
      "23/23 - 0s - 8ms/step - accuracy: 0.8202 - loss: 0.4191 - val_accuracy: 0.8156 - val_loss: 0.4288\n",
      "Epoch 20/100\n",
      "23/23 - 0s - 7ms/step - accuracy: 0.8244 - loss: 0.4195 - val_accuracy: 0.8101 - val_loss: 0.4325\n",
      "Epoch 21/100\n",
      "23/23 - 0s - 12ms/step - accuracy: 0.8160 - loss: 0.4259 - val_accuracy: 0.8156 - val_loss: 0.4292\n",
      "Epoch 22/100\n",
      "23/23 - 0s - 18ms/step - accuracy: 0.8244 - loss: 0.4123 - val_accuracy: 0.8156 - val_loss: 0.4289\n",
      "Epoch 23/100\n",
      "23/23 - 0s - 13ms/step - accuracy: 0.8272 - loss: 0.4122 - val_accuracy: 0.8156 - val_loss: 0.4313\n",
      "Epoch 24/100\n",
      "23/23 - 0s - 12ms/step - accuracy: 0.8301 - loss: 0.4100 - val_accuracy: 0.8212 - val_loss: 0.4275\n",
      "Epoch 25/100\n",
      "23/23 - 0s - 12ms/step - accuracy: 0.8301 - loss: 0.4168 - val_accuracy: 0.8324 - val_loss: 0.4306\n",
      "Epoch 26/100\n",
      "23/23 - 0s - 11ms/step - accuracy: 0.8174 - loss: 0.4063 - val_accuracy: 0.8268 - val_loss: 0.4248\n",
      "Epoch 27/100\n",
      "23/23 - 0s - 7ms/step - accuracy: 0.8258 - loss: 0.4023 - val_accuracy: 0.8268 - val_loss: 0.4293\n",
      "Epoch 28/100\n",
      "23/23 - 0s - 7ms/step - accuracy: 0.8272 - loss: 0.4054 - val_accuracy: 0.8324 - val_loss: 0.4322\n",
      "Epoch 29/100\n",
      "23/23 - 0s - 7ms/step - accuracy: 0.8301 - loss: 0.4136 - val_accuracy: 0.8268 - val_loss: 0.4340\n",
      "Epoch 30/100\n",
      "23/23 - 0s - 9ms/step - accuracy: 0.8258 - loss: 0.4031 - val_accuracy: 0.8268 - val_loss: 0.4340\n",
      "Epoch 31/100\n",
      "23/23 - 0s - 13ms/step - accuracy: 0.8272 - loss: 0.4193 - val_accuracy: 0.8268 - val_loss: 0.4270\n",
      "Epoch 32/100\n",
      "23/23 - 0s - 17ms/step - accuracy: 0.8371 - loss: 0.4015 - val_accuracy: 0.8268 - val_loss: 0.4321\n",
      "Epoch 33/100\n",
      "23/23 - 0s - 10ms/step - accuracy: 0.8343 - loss: 0.3971 - val_accuracy: 0.8212 - val_loss: 0.4352\n",
      "Epoch 34/100\n",
      "23/23 - 0s - 17ms/step - accuracy: 0.8455 - loss: 0.4051 - val_accuracy: 0.8324 - val_loss: 0.4393\n",
      "Epoch 35/100\n",
      "23/23 - 0s - 13ms/step - accuracy: 0.8385 - loss: 0.4003 - val_accuracy: 0.8268 - val_loss: 0.4349\n",
      "Epoch 36/100\n",
      "23/23 - 0s - 9ms/step - accuracy: 0.8441 - loss: 0.4004 - val_accuracy: 0.8212 - val_loss: 0.4371\n"
     ]
    }
   ],
   "source": [
    "history = ann.fit(\n",
    "    X_train_split,\n",
    "    y_train_split,\n",
    "    validation_data=(X_val_split, y_val_split),\n",
    "    epochs=100,\n",
    "    batch_size=32,\n",
    "    callbacks=[early_stopping],\n",
    "    verbose=2\n",
    ")\n"
   ]
  },
  {
   "cell_type": "markdown",
   "metadata": {},
   "source": [
    "## Evaluate the model on the training set"
   ]
  },
  {
   "cell_type": "code",
   "execution_count": 14,
   "metadata": {},
   "outputs": [
    {
     "name": "stdout",
     "output_type": "stream",
     "text": [
      "Training Loss: 0.3795, Training Accuracy: 0.8427\n"
     ]
    }
   ],
   "source": [
    "train_loss, train_accuracy = ann.evaluate(X_train_split, y_train_split, verbose=0)\n",
    "print(f\"Training Loss: {train_loss:.4f}, Training Accuracy: {train_accuracy:.4f}\")\n"
   ]
  },
  {
   "cell_type": "markdown",
   "metadata": {},
   "source": [
    "## Evaluate the model on the validation set"
   ]
  },
  {
   "cell_type": "code",
   "execution_count": 15,
   "metadata": {},
   "outputs": [
    {
     "name": "stdout",
     "output_type": "stream",
     "text": [
      "Validation Loss: 0.4248, Validation Accuracy: 0.8268\n"
     ]
    }
   ],
   "source": [
    "val_loss, val_accuracy = ann.evaluate(X_val_split, y_val_split, verbose=0)\n",
    "print(f\"Validation Loss: {val_loss:.4f}, Validation Accuracy: {val_accuracy:.4f}\")\n"
   ]
  },
  {
   "cell_type": "markdown",
   "metadata": {},
   "source": [
    "## Make predictions on the test set"
   ]
  },
  {
   "cell_type": "code",
   "execution_count": 16,
   "metadata": {},
   "outputs": [
    {
     "name": "stdout",
     "output_type": "stream",
     "text": [
      "\u001b[1m14/14\u001b[0m \u001b[32m━━━━━━━━━━━━━━━━━━━━\u001b[0m\u001b[37m\u001b[0m \u001b[1m0s\u001b[0m 7ms/step\n"
     ]
    }
   ],
   "source": [
    "y_pred = (ann.predict(X_test_processed) > 0.5).astype(int).flatten()\n"
   ]
  },
  {
   "cell_type": "markdown",
   "metadata": {},
   "source": [
    "## Export to csv"
   ]
  },
  {
   "cell_type": "code",
   "execution_count": 17,
   "metadata": {},
   "outputs": [],
   "source": [
    "results = pd.DataFrame({\"PassengerId\": X_test[\"PassengerId\"], \"Survived\": y_pred})\n",
    "results.to_csv(\"ann_submission.csv\", index=False)\n"
   ]
  }
 ],
 "metadata": {
  "kernelspec": {
   "display_name": "Python 3",
   "language": "python",
   "name": "python3"
  },
  "language_info": {
   "codemirror_mode": {
    "name": "ipython",
    "version": 3
   },
   "file_extension": ".py",
   "mimetype": "text/x-python",
   "name": "python",
   "nbconvert_exporter": "python",
   "pygments_lexer": "ipython3",
   "version": "3.12.4"
  }
 },
 "nbformat": 4,
 "nbformat_minor": 2
}
